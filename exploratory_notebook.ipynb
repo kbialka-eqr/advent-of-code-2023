{
 "cells": [
  {
   "cell_type": "code",
   "execution_count": 42,
   "metadata": {},
   "outputs": [],
   "source": [
    "path = \"inputs/day2.txt\"\n",
    "\n",
    "with open(path) as file:\n",
    "    f = file.read()\n",
    "\n",
    "games = f.split('\\n')"
   ]
  },
  {
   "cell_type": "code",
   "execution_count": 43,
   "metadata": {},
   "outputs": [
    {
     "data": {
      "text/plain": [
       "['Game 1: 4 green, 3 blue, 11 red; 7 red, 5 green, 10 blue; 3 green, 8 blue, 8 red; 4 red, 12 blue; 15 red, 3 green, 10 blue',\n",
       " 'Game 2: 3 red, 1 blue, 2 green; 1 blue, 9 green; 1 red, 10 green',\n",
       " 'Game 3: 5 green, 9 red, 4 blue; 3 green, 7 blue; 12 blue, 3 green, 3 red; 3 blue, 7 red, 2 green; 7 blue, 3 green, 10 red',\n",
       " 'Game 4: 2 green, 2 blue; 12 red, 9 green, 2 blue; 13 green, 15 red, 4 blue; 14 red, 3 green, 5 blue; 6 red, 1 green; 1 blue, 2 red, 2 green',\n",
       " 'Game 5: 2 green, 6 blue; 1 red, 3 green, 5 blue; 3 green, 4 blue; 3 blue, 5 green, 1 red; 5 blue',\n",
       " 'Game 6: 5 green, 1 blue, 3 red; 8 green, 15 red; 16 green, 5 red, 1 blue',\n",
       " 'Game 7: 1 blue, 3 red, 11 green; 18 red, 16 blue, 5 green; 13 blue, 5 green; 1 red, 8 green, 15 blue',\n",
       " 'Game 8: 1 green, 14 blue, 1 red; 10 blue; 1 green',\n",
       " 'Game 9: 4 green, 12 blue, 1 red; 14 blue; 2 blue, 4 green; 4 green, 1 red, 10 blue',\n",
       " 'Game 10: 11 green, 9 red; 12 red, 9 green; 5 red, 7 blue, 5 green; 6 green, 1 blue, 12 red; 3 red, 3 blue; 16 red, 9 blue, 7 green',\n",
       " 'Game 11: 11 green, 1 red, 9 blue; 2 red, 13 green, 5 blue; 5 green, 2 red, 5 blue; 5 green, 7 blue; 1 red, 5 blue, 1 green',\n",
       " 'Game 12: 5 green, 1 red; 1 red, 4 green; 1 blue, 12 green; 15 green, 4 blue; 4 blue, 19 green; 16 green, 4 blue',\n",
       " 'Game 13: 1 red, 9 green, 5 blue; 10 blue, 7 green, 1 red; 3 green, 2 red, 14 blue; 16 blue, 3 red',\n",
       " 'Game 14: 9 red, 1 blue, 2 green; 16 blue, 7 red; 2 green, 3 red, 14 blue; 1 green, 9 blue',\n",
       " 'Game 15: 6 blue; 4 blue; 1 red, 16 blue, 3 green',\n",
       " 'Game 16: 14 green, 5 red, 1 blue; 1 red, 1 blue; 5 blue',\n",
       " 'Game 17: 1 blue, 1 green, 3 red; 2 red, 2 blue, 2 green; 1 blue, 1 red; 1 red, 2 green, 2 blue; 2 blue; 1 green, 2 red, 1 blue',\n",
       " 'Game 18: 4 blue, 2 green, 1 red; 1 green, 1 red, 10 blue; 1 green, 1 red, 2 blue; 1 red, 5 blue; 3 green, 6 blue; 1 red, 1 green, 7 blue',\n",
       " 'Game 19: 1 blue, 13 green, 12 red; 7 blue, 2 green, 1 red; 1 blue, 3 red, 3 green; 3 blue, 8 green, 10 red; 7 blue, 2 green',\n",
       " 'Game 20: 1 red, 17 blue; 10 blue, 5 green; 9 green, 1 red, 3 blue; 1 red, 5 green, 1 blue',\n",
       " 'Game 21: 3 red, 6 blue, 5 green; 4 blue, 1 red, 7 green; 6 blue, 4 red, 9 green',\n",
       " 'Game 22: 11 blue, 2 red, 6 green; 16 blue, 5 red, 6 green; 12 red, 2 green, 10 blue; 14 blue, 2 green, 11 red',\n",
       " 'Game 23: 3 red, 5 green; 10 blue, 1 green, 9 red; 2 red, 10 green, 9 blue; 9 blue, 7 green',\n",
       " 'Game 24: 8 blue, 1 red; 3 red, 9 blue; 9 green, 2 red, 8 blue',\n",
       " 'Game 25: 2 red, 1 green, 1 blue; 1 green, 12 blue, 2 red; 2 red, 1 blue; 2 blue; 1 green, 10 blue; 6 blue',\n",
       " 'Game 26: 2 red; 4 green, 1 red, 7 blue; 11 blue, 2 red, 4 green; 1 red, 1 blue; 1 red, 5 green, 12 blue',\n",
       " 'Game 27: 1 red, 7 green, 8 blue; 13 green, 12 blue, 1 red; 6 red, 1 green, 10 blue; 8 red, 2 blue, 2 green; 11 blue, 4 green, 4 red',\n",
       " 'Game 28: 1 red, 8 blue, 3 green; 12 green, 4 blue; 1 red, 4 blue, 11 green; 7 blue, 10 green, 10 red; 11 blue, 7 red, 8 green; 10 red, 2 green, 2 blue',\n",
       " 'Game 29: 4 green, 2 red; 1 blue, 11 red; 2 blue, 3 green, 1 red; 16 red; 3 green, 8 red, 1 blue; 2 blue, 7 green, 12 red',\n",
       " 'Game 30: 1 blue, 3 green; 4 green, 2 blue; 3 red, 5 blue; 4 green, 1 red',\n",
       " 'Game 31: 2 red, 2 blue, 3 green; 2 green, 3 blue, 8 red; 7 red, 16 blue, 2 green; 5 red, 20 blue, 2 green',\n",
       " 'Game 32: 2 red, 1 green, 4 blue; 4 green, 4 red, 1 blue; 4 red, 4 blue; 1 blue, 4 red, 2 green; 4 blue, 3 green, 4 red',\n",
       " 'Game 33: 11 green, 4 blue, 10 red; 2 green, 13 red, 7 blue; 13 red, 2 blue, 8 green; 15 red, 9 blue, 12 green; 14 red, 10 green, 2 blue; 13 red, 7 green',\n",
       " 'Game 34: 11 red, 6 blue, 4 green; 16 red, 7 blue, 4 green; 6 red, 18 green, 6 blue; 3 blue, 16 red, 3 green; 2 red, 3 blue, 17 green; 3 green, 9 red, 6 blue',\n",
       " 'Game 35: 6 green, 10 red, 12 blue; 4 red, 1 blue, 2 green; 3 green, 8 blue, 7 red; 6 red, 12 blue, 2 green',\n",
       " 'Game 36: 4 green, 2 blue, 2 red; 3 green, 10 red, 1 blue; 1 blue, 3 green, 2 red; 2 green, 1 red; 1 blue, 5 red',\n",
       " 'Game 37: 3 blue, 1 red, 2 green; 8 red, 4 green, 10 blue; 4 red, 4 green',\n",
       " 'Game 38: 13 green, 3 red, 2 blue; 1 red, 13 green, 2 blue; 20 green, 3 red, 2 blue; 1 red, 2 blue, 12 green',\n",
       " 'Game 39: 13 blue, 1 red, 8 green; 5 red, 3 green, 8 blue; 6 blue, 4 green; 18 blue, 7 green, 1 red; 4 green, 3 blue, 5 red; 6 blue, 4 red, 1 green',\n",
       " 'Game 40: 2 red, 2 blue, 9 green; 1 blue, 2 red, 12 green; 16 green, 11 blue, 1 red; 1 green, 2 red; 3 blue, 2 red',\n",
       " 'Game 41: 7 blue, 1 red; 4 blue, 1 red; 3 blue, 1 red, 2 green; 13 blue',\n",
       " 'Game 42: 18 red, 1 green, 13 blue; 2 blue, 2 green, 7 red; 16 red, 12 blue; 1 green, 10 blue, 14 red',\n",
       " 'Game 43: 15 red, 6 green, 2 blue; 3 blue, 9 red, 3 green; 13 red',\n",
       " 'Game 44: 2 blue, 5 green, 3 red; 4 red, 4 blue, 19 green; 5 red, 3 blue, 9 green; 19 green, 6 red, 5 blue',\n",
       " 'Game 45: 5 red, 4 green, 13 blue; 12 red, 10 blue; 3 green, 9 blue, 5 red; 10 blue, 18 red, 5 green; 16 red, 6 green, 17 blue',\n",
       " 'Game 46: 3 green; 3 green, 2 blue; 4 blue, 2 red, 3 green; 5 blue, 3 green, 4 red; 1 green, 1 blue',\n",
       " 'Game 47: 2 blue, 1 red, 10 green; 2 red; 6 red, 1 blue; 16 red, 2 blue, 8 green; 5 blue, 8 red, 7 green',\n",
       " 'Game 48: 11 green, 4 red, 2 blue; 2 blue, 5 green, 8 red; 9 green, 6 red; 3 red, 3 green, 1 blue; 2 blue, 12 green, 17 red',\n",
       " 'Game 49: 10 blue, 4 green, 1 red; 10 red, 10 blue; 12 blue, 7 red; 13 blue, 6 green',\n",
       " 'Game 50: 1 red, 19 green, 7 blue; 4 red, 1 green, 5 blue; 16 green, 8 red, 8 blue',\n",
       " 'Game 51: 12 green, 18 blue; 13 green, 14 blue, 4 red; 7 green, 4 red, 14 blue; 8 green, 2 blue, 3 red; 16 blue, 8 green',\n",
       " 'Game 52: 9 blue, 9 green, 3 red; 8 blue, 1 green, 13 red; 2 red, 8 blue, 9 green; 13 red, 4 green; 6 green, 15 red; 11 blue, 11 red, 9 green',\n",
       " 'Game 53: 2 red, 4 green, 3 blue; 5 blue, 16 green; 4 blue, 8 red, 12 green',\n",
       " 'Game 54: 6 red, 16 green; 6 red, 15 green; 8 green, 8 red, 2 blue',\n",
       " 'Game 55: 9 red, 2 green; 4 blue; 2 green, 2 red, 7 blue; 1 red, 16 blue, 1 green; 17 blue, 5 red',\n",
       " 'Game 56: 14 green, 3 red, 9 blue; 14 blue, 15 green, 2 red; 8 red, 13 blue, 15 green; 15 blue, 2 red, 12 green; 3 red, 7 blue, 10 green; 10 blue, 13 green',\n",
       " 'Game 57: 1 blue, 10 green, 2 red; 4 blue, 9 green, 11 red; 2 blue',\n",
       " 'Game 58: 4 red, 2 blue, 5 green; 1 blue, 5 green, 4 red; 3 green, 4 red, 8 blue; 4 blue, 7 green; 5 green, 4 blue; 1 blue, 6 red',\n",
       " 'Game 59: 5 blue, 4 red, 3 green; 8 blue, 12 green, 5 red; 5 red, 8 blue, 15 green',\n",
       " 'Game 60: 6 red, 12 blue, 1 green; 10 blue, 20 green, 4 red; 6 blue, 1 green, 5 red; 9 red, 12 blue, 14 green; 15 green, 1 red, 14 blue; 10 green, 13 blue',\n",
       " 'Game 61: 1 blue, 12 green, 3 red; 4 green, 1 red, 4 blue; 8 red, 4 green, 6 blue',\n",
       " 'Game 62: 6 blue, 7 green, 3 red; 6 blue, 3 red, 3 green; 11 green, 6 red, 2 blue; 2 red, 6 blue, 3 green; 2 green, 3 blue, 3 red; 3 blue, 11 green, 11 red',\n",
       " 'Game 63: 5 green, 6 blue, 4 red; 6 green, 12 blue; 3 green, 9 blue, 10 red; 1 blue, 4 red, 5 green',\n",
       " 'Game 64: 10 green, 14 red; 1 blue, 9 red; 3 green, 10 blue, 14 red; 5 green, 3 blue, 12 red; 5 blue, 12 red, 13 green',\n",
       " 'Game 65: 1 red, 5 green, 10 blue; 14 red, 5 green, 10 blue; 10 blue, 10 red',\n",
       " 'Game 66: 9 green, 8 blue, 1 red; 8 red, 14 blue; 8 red, 7 blue, 2 green; 4 blue, 3 green, 5 red; 2 red, 8 green, 8 blue',\n",
       " 'Game 67: 4 red, 3 green, 3 blue; 4 green, 1 blue, 4 red; 1 blue, 3 red; 10 blue; 16 blue, 6 red, 4 green',\n",
       " 'Game 68: 6 blue, 6 green, 9 red; 4 blue, 9 red, 3 green; 3 blue, 8 red',\n",
       " 'Game 69: 4 green, 12 red, 3 blue; 2 red, 3 blue; 2 blue, 4 red, 2 green; 1 blue, 3 red',\n",
       " 'Game 70: 4 red, 3 green, 15 blue; 1 green, 4 red; 1 red, 1 green, 5 blue',\n",
       " 'Game 71: 4 blue, 2 red, 10 green; 7 red, 6 blue, 11 green; 4 blue, 7 red, 8 green',\n",
       " 'Game 72: 9 red, 9 blue, 1 green; 4 red, 6 green, 5 blue; 3 green, 7 red, 2 blue',\n",
       " 'Game 73: 3 green, 9 red; 4 green, 15 red; 12 red, 2 blue; 14 red, 3 green',\n",
       " 'Game 74: 2 red, 6 blue, 1 green; 3 red, 6 blue; 1 green, 12 blue, 14 red',\n",
       " 'Game 75: 3 green, 18 red; 1 green, 7 red, 1 blue; 2 red, 2 green, 3 blue; 11 red; 2 red, 3 green, 2 blue',\n",
       " 'Game 76: 6 green, 2 red, 5 blue; 13 green, 5 blue; 5 blue, 1 red, 1 green',\n",
       " 'Game 77: 4 blue, 6 green, 3 red; 15 red, 1 green; 4 green, 11 red, 13 blue; 8 blue, 6 green, 9 red; 3 blue, 1 green, 11 red; 3 green, 3 red',\n",
       " 'Game 78: 11 green, 1 blue, 2 red; 7 red, 16 blue, 11 green; 9 blue, 10 red, 6 green; 1 green, 8 blue, 10 red; 8 blue, 6 red, 1 green',\n",
       " 'Game 79: 2 blue, 5 green, 4 red; 1 blue, 1 red, 1 green; 1 blue, 5 red, 10 green; 6 red, 3 green, 3 blue; 8 red, 9 green, 6 blue; 7 blue, 6 green, 13 red',\n",
       " 'Game 80: 10 green, 7 blue, 5 red; 5 red, 1 green, 6 blue; 8 blue, 2 red, 8 green',\n",
       " 'Game 81: 3 green, 10 red; 6 blue, 8 green, 14 red; 4 green, 4 blue, 13 red; 5 blue, 11 green, 6 red; 16 red, 8 green, 5 blue; 6 green, 18 red, 6 blue',\n",
       " 'Game 82: 13 red, 1 green, 7 blue; 8 green, 4 blue, 12 red; 18 red, 5 green, 3 blue; 13 red, 4 green, 9 blue',\n",
       " 'Game 83: 1 red, 3 green, 4 blue; 5 blue, 4 green, 1 red; 3 green, 1 red, 12 blue; 4 green, 11 blue',\n",
       " 'Game 84: 3 blue, 10 green, 2 red; 3 red, 8 blue; 11 blue, 12 red, 14 green; 2 red, 11 green, 2 blue',\n",
       " 'Game 85: 8 blue, 2 green, 1 red; 13 blue, 6 red; 3 blue, 5 green',\n",
       " 'Game 86: 16 red, 8 blue; 7 blue; 16 red, 16 blue, 1 green; 15 blue, 11 red; 2 green, 7 red, 5 blue',\n",
       " 'Game 87: 6 green, 9 blue, 4 red; 1 red, 1 green, 4 blue; 5 blue, 13 green, 3 red; 2 green, 4 red; 16 blue, 10 green, 3 red',\n",
       " 'Game 88: 1 blue, 14 red; 14 red, 3 blue, 8 green; 1 blue, 5 green',\n",
       " 'Game 89: 12 green, 14 blue, 3 red; 2 red, 3 blue, 3 green; 2 blue, 8 green; 1 red, 3 green, 15 blue; 3 red, 5 blue',\n",
       " 'Game 90: 3 blue, 17 red, 11 green; 2 red, 2 blue, 7 green; 7 blue; 8 blue, 4 green, 10 red; 1 blue, 4 red',\n",
       " 'Game 91: 10 red, 9 blue, 8 green; 5 blue, 10 red, 2 green; 11 red, 17 green, 7 blue; 12 blue, 16 red, 18 green; 20 green, 5 blue, 15 red',\n",
       " 'Game 92: 1 green, 14 red, 1 blue; 2 blue, 6 green; 9 red, 6 green; 5 blue, 5 red, 2 green; 3 blue, 3 green, 10 red; 5 blue, 1 red',\n",
       " 'Game 93: 10 green, 1 red, 6 blue; 16 red, 5 blue, 2 green; 3 red, 7 green, 11 blue; 12 green, 5 blue, 4 red; 8 green, 7 blue, 10 red; 1 red, 5 blue',\n",
       " 'Game 94: 3 blue, 1 red, 3 green; 1 blue, 4 green, 4 red; 9 green',\n",
       " 'Game 95: 3 green, 5 blue, 9 red; 2 green, 9 red, 2 blue; 12 red, 9 green; 11 green, 9 red, 9 blue; 9 blue, 6 green, 10 red; 13 red, 2 blue, 5 green',\n",
       " 'Game 96: 2 red, 19 blue, 2 green; 10 blue, 1 red, 2 green; 9 blue, 1 red; 2 green, 3 blue; 1 green, 1 red, 11 blue',\n",
       " 'Game 97: 6 green, 7 blue, 5 red; 7 green, 1 red, 11 blue; 6 green, 6 red, 5 blue; 2 red, 9 blue, 1 green',\n",
       " 'Game 98: 5 green, 8 red, 15 blue; 16 green, 9 blue, 8 red; 5 blue, 3 red, 2 green; 13 blue, 12 green, 4 red; 2 red, 15 green, 3 blue; 1 green, 11 blue, 2 red',\n",
       " 'Game 99: 1 green, 7 blue, 6 red; 16 blue, 9 red; 1 green, 17 red, 12 blue; 15 red, 7 blue; 8 blue, 14 red',\n",
       " 'Game 100: 5 blue, 11 red, 6 green; 11 red, 2 blue, 5 green; 6 blue, 6 green; 2 blue, 6 red, 15 green; 7 red, 4 blue, 7 green']"
      ]
     },
     "execution_count": 43,
     "metadata": {},
     "output_type": "execute_result"
    }
   ],
   "source": [
    "games"
   ]
  },
  {
   "cell_type": "code",
   "execution_count": 44,
   "metadata": {},
   "outputs": [],
   "source": [
    "cube_limits = {\n",
    "    'blue' : 14,\n",
    "    'red' : 12,\n",
    "    'green' : 13\n",
    "}"
   ]
  },
  {
   "cell_type": "code",
   "execution_count": 45,
   "metadata": {},
   "outputs": [],
   "source": [
    "viable_games = []\n",
    "\n",
    "for game in games:\n",
    "\n",
    "    game_possible = True\n",
    "\n",
    "    game_name, game_results = game.split(':')\n",
    "\n",
    "    game_index = int(game_name.split(' ')[-1])\n",
    "\n",
    "    rounds = game_results.split(';')\n",
    "\n",
    "    for rnd in rounds:\n",
    "        color_outcomes = rnd.split(',')\n",
    "\n",
    "        for outcome in color_outcomes:\n",
    "            \n",
    "            outcome = outcome.strip()\n",
    "            amt, color = outcome.split(' ')\n",
    "\n",
    "            # Game result not possible\n",
    "            if cube_limits[color] < int(amt):\n",
    "                game_possible = False\n",
    "\n",
    "            if not game_possible:\n",
    "                break\n",
    "        \n",
    "        if not game_possible:\n",
    "            break\n",
    "\n",
    "    if game_possible:\n",
    "        viable_games.append(game_index)\n",
    "\n"
   ]
  },
  {
   "cell_type": "code",
   "execution_count": 81,
   "metadata": {},
   "outputs": [],
   "source": [
    "def parse_games() -> tuple[list, list]:\n",
    "    '''Parse game strings into list of indices and list of results\n",
    "    \n",
    "    Where a game results is a list of games\n",
    "    a game is list of rounds\n",
    "    a round is list of strings like \" 3 blue\"\n",
    "    '''\n",
    "    \n",
    "    path = \"inputs/day2.txt\"\n",
    "\n",
    "    with open(path) as file:\n",
    "        f = file.read()\n",
    "\n",
    "    games = f.split('\\n')\n",
    "\n",
    "    indices = []\n",
    "    game_results = []\n",
    "\n",
    "    for game in games:\n",
    "\n",
    "        game_name, game_result = game.split(':')\n",
    "\n",
    "        indices.append(int(game_name.split(' ')[-1]))\n",
    "\n",
    "        rounds = game_result.split(';')\n",
    "\n",
    "        rounds = [round.split(',') for round in rounds]\n",
    "\n",
    "        game_results.append(rounds)\n",
    "\n",
    "\n",
    "    return indices, game_results\n"
   ]
  },
  {
   "cell_type": "code",
   "execution_count": 82,
   "metadata": {},
   "outputs": [],
   "source": [
    "indices, game_res = parse_games()"
   ]
  },
  {
   "cell_type": "code",
   "execution_count": 83,
   "metadata": {},
   "outputs": [
    {
     "data": {
      "text/plain": [
       "[[' 4 green', ' 3 blue', ' 11 red'],\n",
       " [' 7 red', ' 5 green', ' 10 blue'],\n",
       " [' 3 green', ' 8 blue', ' 8 red'],\n",
       " [' 4 red', ' 12 blue'],\n",
       " [' 15 red', ' 3 green', ' 10 blue']]"
      ]
     },
     "execution_count": 83,
     "metadata": {},
     "output_type": "execute_result"
    }
   ],
   "source": [
    "game_res[0]"
   ]
  },
  {
   "cell_type": "code",
   "execution_count": 84,
   "metadata": {},
   "outputs": [],
   "source": [
    "def determine_fewest(game: list[list]):\n",
    "    '''Process each game determining fewest cubes necessary to complete.'''\n",
    "\n",
    "    # Stores max cube count needed per color to complete all rounds\n",
    "    maxes = {\n",
    "        'red' : 0,\n",
    "        'blue' : 0,\n",
    "        'green' : 0\n",
    "    }\n",
    "    \n",
    "    for rnd in game:\n",
    "        # round is a list of strings w/poor spacing\n",
    "        for cube_result in rnd:\n",
    "            cube_result = cube_result.strip()\n",
    "            value, color = cube_result.split(' ')\n",
    "            value = int(value)\n",
    "\n",
    "            if value > maxes[color]:\n",
    "                maxes[color] = value\n",
    "\n",
    "    return maxes"
   ]
  },
  {
   "cell_type": "code",
   "execution_count": 85,
   "metadata": {},
   "outputs": [
    {
     "data": {
      "text/plain": [
       "{'red': 15, 'blue': 12, 'green': 5}"
      ]
     },
     "execution_count": 85,
     "metadata": {},
     "output_type": "execute_result"
    }
   ],
   "source": [
    "a = determine_fewest(game_res[0])\n",
    "a"
   ]
  },
  {
   "cell_type": "code",
   "execution_count": 86,
   "metadata": {},
   "outputs": [
    {
     "data": {
      "text/plain": [
       "[15, 12, 5]"
      ]
     },
     "execution_count": 86,
     "metadata": {},
     "output_type": "execute_result"
    }
   ],
   "source": [
    "list(a.values())"
   ]
  },
  {
   "cell_type": "code",
   "execution_count": 87,
   "metadata": {},
   "outputs": [],
   "source": [
    "products = []\n",
    "\n",
    "for game in game_res:\n",
    "\n",
    "    curr_fewest = determine_fewest(game)\n",
    "\n",
    "    curr_product = curr_fewest['red'] * curr_fewest['blue'] * curr_fewest['green']\n",
    "\n",
    "    products.append(curr_product)\n",
    "\n"
   ]
  },
  {
   "cell_type": "code",
   "execution_count": 88,
   "metadata": {},
   "outputs": [
    {
     "data": {
      "text/plain": [
       "[900,\n",
       " 30,\n",
       " 600,\n",
       " 975,\n",
       " 30,\n",
       " 240,\n",
       " 3168,\n",
       " 14,\n",
       " 56,\n",
       " 1584,\n",
       " 234,\n",
       " 76,\n",
       " 432,\n",
       " 288,\n",
       " 48,\n",
       " 350,\n",
       " 12,\n",
       " 30,\n",
       " 1092,\n",
       " 153,\n",
       " 216,\n",
       " 1152,\n",
       " 900,\n",
       " 243,\n",
       " 24,\n",
       " 120,\n",
       " 1248,\n",
       " 1320,\n",
       " 224,\n",
       " 60,\n",
       " 480,\n",
       " 64,\n",
       " 1620,\n",
       " 2016,\n",
       " 720,\n",
       " 80,\n",
       " 320,\n",
       " 120,\n",
       " 720,\n",
       " 352,\n",
       " 26,\n",
       " 468,\n",
       " 270,\n",
       " 570,\n",
       " 1836,\n",
       " 60,\n",
       " 800,\n",
       " 408,\n",
       " 780,\n",
       " 1216,\n",
       " 936,\n",
       " 1485,\n",
       " 640,\n",
       " 256,\n",
       " 306,\n",
       " 1800,\n",
       " 440,\n",
       " 336,\n",
       " 600,\n",
       " 2520,\n",
       " 576,\n",
       " 726,\n",
       " 720,\n",
       " 1820,\n",
       " 700,\n",
       " 1008,\n",
       " 384,\n",
       " 324,\n",
       " 144,\n",
       " 180,\n",
       " 462,\n",
       " 486,\n",
       " 120,\n",
       " 168,\n",
       " 162,\n",
       " 130,\n",
       " 1170,\n",
       " 1760,\n",
       " 910,\n",
       " 400,\n",
       " 1188,\n",
       " 1296,\n",
       " 48,\n",
       " 1848,\n",
       " 390,\n",
       " 512,\n",
       " 832,\n",
       " 336,\n",
       " 540,\n",
       " 1496,\n",
       " 3840,\n",
       " 420,\n",
       " 2112,\n",
       " 108,\n",
       " 1287,\n",
       " 76,\n",
       " 462,\n",
       " 1920,\n",
       " 272,\n",
       " 990]"
      ]
     },
     "execution_count": 88,
     "metadata": {},
     "output_type": "execute_result"
    }
   ],
   "source": [
    "products"
   ]
  },
  {
   "cell_type": "code",
   "execution_count": 89,
   "metadata": {},
   "outputs": [
    {
     "data": {
      "text/plain": [
       "70387"
      ]
     },
     "execution_count": 89,
     "metadata": {},
     "output_type": "execute_result"
    }
   ],
   "source": [
    "sum(products)"
   ]
  },
  {
   "cell_type": "code",
   "execution_count": 90,
   "metadata": {},
   "outputs": [],
   "source": [
    "# 70387"
   ]
  },
  {
   "cell_type": "code",
   "execution_count": 91,
   "metadata": {},
   "outputs": [],
   "source": [
    "indices, games = parse_games()"
   ]
  },
  {
   "cell_type": "code",
   "execution_count": 94,
   "metadata": {},
   "outputs": [
    {
     "data": {
      "text/plain": [
       "[[' 4 green', ' 3 blue', ' 11 red'],\n",
       " [' 7 red', ' 5 green', ' 10 blue'],\n",
       " [' 3 green', ' 8 blue', ' 8 red'],\n",
       " [' 4 red', ' 12 blue'],\n",
       " [' 15 red', ' 3 green', ' 10 blue']]"
      ]
     },
     "execution_count": 94,
     "metadata": {},
     "output_type": "execute_result"
    }
   ],
   "source": [
    "games[0]"
   ]
  },
  {
   "cell_type": "code",
   "execution_count": 100,
   "metadata": {},
   "outputs": [],
   "source": [
    "def game_is_viable(game: list[list]) -> bool:\n",
    "\n",
    "    cube_limits = {\n",
    "        'blue' : 14,\n",
    "        'red' : 12,\n",
    "        'green' : 13\n",
    "    }\n",
    "\n",
    "    for rnd in game:\n",
    "        for cube_result in rnd:\n",
    "            cube_result = cube_result.strip()\n",
    "            value, color = cube_result.split(' ')\n",
    "            value = int(value)\n",
    "\n",
    "            if value > cube_limits[color]:\n",
    "                return False\n",
    "    \n",
    "    return True"
   ]
  },
  {
   "cell_type": "code",
   "execution_count": 101,
   "metadata": {},
   "outputs": [],
   "source": [
    "viable_indices = []\n",
    "\n",
    "for index, game in zip(indices, games):\n",
    "    if game_is_viable(game):\n",
    "        viable_indices.append(index)"
   ]
  },
  {
   "cell_type": "code",
   "execution_count": 102,
   "metadata": {},
   "outputs": [
    {
     "data": {
      "text/plain": [
       "1734"
      ]
     },
     "execution_count": 102,
     "metadata": {},
     "output_type": "execute_result"
    }
   ],
   "source": [
    "sum(viable_indices)"
   ]
  },
  {
   "cell_type": "code",
   "execution_count": null,
   "metadata": {},
   "outputs": [],
   "source": []
  }
 ],
 "metadata": {
  "kernelspec": {
   "display_name": "Python 3.10.11 ('general-env')",
   "language": "python",
   "name": "python3"
  },
  "language_info": {
   "codemirror_mode": {
    "name": "ipython",
    "version": 3
   },
   "file_extension": ".py",
   "mimetype": "text/x-python",
   "name": "python",
   "nbconvert_exporter": "python",
   "pygments_lexer": "ipython3",
   "version": "3.9.16"
  },
  "orig_nbformat": 4,
  "vscode": {
   "interpreter": {
    "hash": "f753a8d0be80afa9bc658f0e2e3b4b6167fe01f01adf413182be7980e27ea8eb"
   }
  }
 },
 "nbformat": 4,
 "nbformat_minor": 2
}
